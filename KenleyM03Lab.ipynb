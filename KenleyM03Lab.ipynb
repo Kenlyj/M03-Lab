{
 "cells": [
  {
   "cell_type": "code",
   "execution_count": 1,
   "id": "6d1ff999-903e-4c1a-978d-cc68d6d70ef3",
   "metadata": {},
   "outputs": [
    {
     "name": "stdin",
     "output_type": "stream",
     "text": [
      "Enter year:  2022\n",
      "Enter make:  Toyota\n",
      "Enter model:  Corolla\n",
      "Enter number of doors:  4\n",
      "Enter type of roof:  sun roof\n"
     ]
    },
    {
     "name": "stdout",
     "output_type": "stream",
     "text": [
      "Entered details are =>\n",
      "Vehicle type: car\n",
      "Year: 2022\n",
      "Make: Toyota\n",
      "Model: Corolla\n",
      "Number of doors: 4\n",
      "Type of roof: sun roof\n"
     ]
    }
   ],
   "source": [
    "# super Class\n",
    "class Vehicle:\n",
    "    def __init__(self, vehicle_type):\n",
    "        self.vehicle_type = vehicle_type\n",
    "\n",
    "class Automobile(Vehicle):\n",
    "    def __init__(self, vehicle_type, year, make, model, doors, roof):\n",
    "        # call super class constructor\n",
    "        super().__init__(vehicle_type)\n",
    "        self.year = year\n",
    "        self.make = make\n",
    "        self.model = model\n",
    "        self.doors = doors\n",
    "        self.roof = roof\n",
    "\n",
    "    # method to return data in required format\n",
    "    def __str__(self):\n",
    "        return \"Vehicle type: \" + self.vehicle_type + \"\\nYear: \" + str(self.year) + \"\\nMake: \" + self.make + \"\\nModel: \" + self.model + \"\\nNumber of doors: \" + str(self.doors) + \"\\nType of roof: \" + self.roof\n",
    "\n",
    "if __name__ == \"__main__\":\n",
    "    # get year, make, model, doors and roof from user\n",
    "    year = input(\"Enter year: \")\n",
    "    make = input(\"Enter make: \")\n",
    "    model = input(\"Enter model: \")\n",
    "    doors = input(\"Enter number of doors: \")\n",
    "    roof = input(\"Enter type of roof: \")\n",
    "\n",
    "    # create an object of Automobile type as car\n",
    "    carObj = Automobile(\"car\", year, make, model, doors, roof)\n",
    "\n",
    "    # print details\n",
    "    print(\"Entered details are =>\")\n",
    "    print(carObj)\n"
   ]
  },
  {
   "cell_type": "code",
   "execution_count": null,
   "id": "703600af-8810-4482-b1d3-166d08d18215",
   "metadata": {},
   "outputs": [],
   "source": []
  }
 ],
 "metadata": {
  "kernelspec": {
   "display_name": "Python 3 (ipykernel)",
   "language": "python",
   "name": "python3"
  },
  "language_info": {
   "codemirror_mode": {
    "name": "ipython",
    "version": 3
   },
   "file_extension": ".py",
   "mimetype": "text/x-python",
   "name": "python",
   "nbconvert_exporter": "python",
   "pygments_lexer": "ipython3",
   "version": "3.11.7"
  }
 },
 "nbformat": 4,
 "nbformat_minor": 5
}
